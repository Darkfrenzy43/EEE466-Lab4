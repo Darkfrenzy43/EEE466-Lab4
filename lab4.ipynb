{
 "cells": [
  {
   "cell_type": "markdown",
   "metadata": {
    "collapsed": false,
    "pycharm": {
     "name": "#%% md\n"
    }
   },
   "source": [
    "# Lab 4 - Reliable UDP File Transfer\n",
    "\n",
    "In this lab you will build on your knowledge of request-reply systems and apply it to a UDP implementation of the FTP Client/Server from Lab 2. You wil implement a reliable protocol on top of UDP.\n",
    "\n",
    "## 4.1 - Primer\n",
    "\n",
    "The files provided in Lab 2 (CommunicationInterface, FTClient, and FTServer) are to be used to create a reliable UDP Client-Server DS. This lab replaces the TCPFIleTransfer class from Lab 2 with your implementation of the RUDPFileTransfer class. The RUDPFileTransfer class implementers the CommunicationInterface class.\n",
    "\n",
    "Note: Your FTClient and FTServer must be capable of executing even if the directory they are installed in is moved. In other words, do not hard code absolute paths to the Send and Receive folders; use relative paths. Marks will be deducted if your code crashes because it was moved to a new location (i.e., the computer of the instructor marking it.)\n",
    "\n",
    "### FTClient and FTServer\n",
    "\n",
    "The requirements for the FTClient and FTServer classes are identical to those for Lab 2 with the exception that all references to the TCPFileTransfer class are replaced by the RUDPFileTransfer class. Note that the term *connection* used in the requirements for the FTServer class from Lab 2 should be interpreted for this lab as an application layer connection not as a TCP connection. FTClient and FTServer may be modified to suit these lab requirements.\n",
    "\n",
    "## 4.2 - RUDPFileTransfer\n",
    "\n",
    "The RUDPFileTransfer class inherits from the CommunicationInterface class. It is where you will implement code pertaining to the communication between the client and the server. When you are planning your client and server design you should keep all portions of the communication implementation contained within the RUDPFileTransfer class. There are two parts to this lab (1) basic UDP interface, (2) reliability for dropped messages and repeated messages.\n",
    "\n",
    "***Before beginning implementation:*** Implementation of reliable communication requires thorough design of the application level protocol for managing messages. Describe in writing and/or sequence diagram how your program will handle a successful put, get, or quit request given an unreliable communication channel. You must discuss your initial design with your instructor prior to beginning your implementation. A full design description must be submitted with your lab report.\n",
    "\n",
    "You may change the class structure of your program if it is required for your design (the RUDPTransfer class must still adhere to the CommunicationInterface class design but you may add additional classes). Justify any structural design within your code comments.\n",
    "\n",
    "### 4.2.1 UDP Interface\n",
    "\n",
    "- The RUDPFileTransfer class inherits from the CommunicationInterface class;\n",
    "- The RUDPFileTransfer class imports from the socket package;\n",
    "- The RUDPFileTransfer class will provide communications using UDP sockets only and will not create any TCP sockets;\n",
    "- UDP packets sent through your RUDPFileTransfer class must not exceed a UDP payload size of 1024 bytes.\n",
    "- As with lab 2, this interface allows the client to issue get, put, and quit requests to the server to transfer text files of different sizes. \n",
    "\n",
    "### 4.2.2 Reliability for Dropped and Repeated Messages\n",
    "\n",
    "- In the event of a complete network failure, the client and server should each timeout during execution, and return to their initial state (client prompt or server waiting for connnections). \n",
    "- In the event of one or many lost messages, the client and server should be able to continue operations.\n",
    "    - For full marks in this section, the provided text files should be transferred between client and server despite a 20% probability of any message being dropped.\n",
    "- In the event of one or many duplicate messages, the client and server should be able to continue operations.\n",
    "    - For full marks in this section, the provided text files should be transferred between client and server despite a 20% probability of any message being repeated.\n",
    "- A function `__send_with_errors()` has been provided in the RUDPFileTransferClass that will drop packets based on the specified `DROP_PROBABILITY` and repeat messages based on the specified `REPEAT_PROBABILITY`.\n",
    "- Note that your program is expected to handle both a 20% drop and 20% repeat probability simultaneously.\n",
    "\n",
    "Hint: To ensure proper management of message types, you may want to include a message header to include elements such as message ID, sequence number, or message type. The header and the data of each message must not exceed the 1024 byte limit.\n",
    "\n",
    "\n",
    "## 4.3 - Testing\n",
    "You may change the floating point constants: `DROP_PROBABILITY` and `REPEAT_PROBABILITY` to enable or disable these reliability errors. You do not need to use any of the provided code as long as your submission meets the requirements in section 4.2.\n",
    "\n",
    "An important aspect of distributed system development is to properly test your implementation. Be sure to run through a good set of test cases to both test proper functionality and for error cases. The files you transfer should be of different sizes and be able to transmit in either direction. Explain your testing in your submitted code, and include any test files as needed. Reminder: you don't *need* to include testing information in your submission but if your code fails, clearly documented testing can provide partial marks.\n",
    "\n",
    "## 4.4 - Questions\n",
    "As part of your report, describe how you designed your reliable UDP protocol to manage dropped and repeated messages. Include any methods your added to the interface and the details of your message header if you used one.\n",
    "\n",
    "# 4.5 - Submission\n",
    "Your objective for this lab is to implement the following files using the requirements listed in part 4.2. There is no expectation that FTClient or FTServer were changed from lab 2.\n",
    "\n",
    "1. RUDPFileTransfer.py\n",
    "2. FTClient.py\n",
    "3. FTServer.py\n",
    "\n",
    "All files included in this lab (i.e., your project) are to be submitted in a zip file (see lab_report_template.ipynb for instructions). Use the lab report template to reference the files that you modified. Include your answer to the question in the report."
   ]
  }
 ],
 "metadata": {
  "kernelspec": {
   "display_name": "Python 3",
   "language": "python",
   "name": "python3"
  },
  "language_info": {
   "codemirror_mode": {
    "name": "ipython",
    "version": 2
   },
   "file_extension": ".py",
   "mimetype": "text/x-python",
   "name": "python",
   "nbconvert_exporter": "python",
   "pygments_lexer": "ipython2",
   "version": "2.7.6"
  }
 },
 "nbformat": 4,
 "nbformat_minor": 0
}
